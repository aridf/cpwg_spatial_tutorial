{
 "cells": [
  {
   "cell_type": "markdown",
   "id": "greek-catch",
   "metadata": {},
   "source": [
    "# Wrangling Spatial Data\n",
    "\n",
    "This notebook provides a brief overview of tools for working with spatial data and performing spatial operations in R. The code here assumes familiarity with R and the tidyverse.\n",
    "\n",
    "## Reference texts\n",
    "\n",
    "* [Geocomputation with R](https://geocompr.robinlovelace.net/). Robin Lovelace, Jakub Nowosad, Jannes Muenchow\n",
    "* All of the [sf vignettes](https://r-spatial.github.io/sf/articles/)\n",
    "\n",
    "## Topics covered\n",
    "\n",
    "* `sf` objects\n",
    "* Coordinate reference systems\n",
    "* Mapz\n",
    "* Spatial joins\n",
    "* Computing distances\n",
    "* Spatial interpolation\n",
    "\n",
    "### A note on `sf` versus `sp`\n",
    "\n",
    "R has two toolkits for spatial data analysis; `sf` and `sp`. `sp` is older, more well-established, and many people are more familiar with it. That said, we recommend learning `sf`, not `sp` The Geocomputation with R text lists the following advantages:\n",
    "\n",
    "* Fast reading and writing of data\n",
    "* Enhanced plotting performance\n",
    "* sf objects can be treated as data frames in most operations\n",
    "* sf functions can be combined using %>% into tidyverse pipe sequences\n",
    "* sf function names are relatively consistent and intuitive (all begin with `st_`)\n",
    "\n",
    "Moreover, from the `sf` [documentation](https://r-spatial.github.io/sf/articles/sf1.html), it \"aims at succeeding `sp` in the long term\". The list of tasks for which `sp` outperforms `sf` is dwindling, and will eventually be zero.\n",
    "\n",
    "---\n",
    "\n",
    "# `sf` objects\n",
    "\n",
    "`sf` stands for simple features. Simple features are a formal standard through which real-world objects can be represented by computers. It is implemented by most spatial data software and databases. This includes probably all the spatial software you've heard of, including ArcGIS, GDAL, etc. \n",
    "\n",
    "Because `sf` is a standard that underlies all of these tools, users can basically ignore filetypes or application-specific restrictions. If it's spatial data, you can probably read it in with `read_sf()`."
   ]
  },
  {
   "cell_type": "code",
   "execution_count": 3,
   "id": "massive-singapore",
   "metadata": {},
   "outputs": [],
   "source": [
    "suppressPackageStartupMessages({\n",
    "    library(tidyverse)\n",
    "    library(sf)\n",
    "})\n",
    "\n",
    "# Read in "
   ]
  }
 ],
 "metadata": {
  "kernelspec": {
   "display_name": "R",
   "language": "R",
   "name": "ir"
  },
  "language_info": {
   "codemirror_mode": "r",
   "file_extension": ".r",
   "mimetype": "text/x-r-source",
   "name": "R",
   "pygments_lexer": "r",
   "version": "4.0.4"
  }
 },
 "nbformat": 4,
 "nbformat_minor": 5
}
